{
 "cells": [
  {
   "cell_type": "code",
   "execution_count": 1,
   "metadata": {
    "collapsed": true
   },
   "outputs": [],
   "source": [
    "import numpy as np\n",
    "import pandas as pd\n",
    "import tensorflow as tf\n",
    "from tensorflow import keras\n",
    "from keras.layers import (MultiHeadAttention, Dense, InputLayer, LayerNormalization, TimeDistributed, Layer, Dropout,\n",
    "                          Embedding)\n",
    "from keras.models import Model, Sequential\n",
    "from transformers import GPT2Tokenizer\n",
    "from AttentionAutoEncoder import AttentionEncoder\n",
    "\n",
    "from sklearn.model_selection import train_test_split\n",
    "from sklearn.preprocessing import MinMaxScaler\n",
    "\n",
    "from stock_indicators import indicators\n",
    "from stock_indicators.indicators.common.quote import Quote"
   ]
  },
  {
   "cell_type": "code",
   "execution_count": 13,
   "outputs": [],
   "source": [
    "# tokenizer = GPT2Tokenizer.from_pretrained(\"gpt2\")"
   ],
   "metadata": {
    "collapsed": false
   }
  },
  {
   "cell_type": "code",
   "execution_count": 14,
   "outputs": [],
   "source": [
    "# tokenizer.special_tokens_map"
   ],
   "metadata": {
    "collapsed": false
   }
  },
  {
   "cell_type": "code",
   "execution_count": 2,
   "outputs": [],
   "source": [
    "# inputs = InputLayer()\n",
    "# positional_embedding = PositionalEncoding()(inputs)\n",
    "#\n",
    "# x = residual = inputs + positional_embedding\n",
    "#\n",
    "# x = MultiHeadAttention(num_heads=2, key_dim=2)(x, x)\n",
    "# x += residual\n",
    "# x = residual = LayerNormalization(epsilon=1e-6)(x)\n",
    "# x = TimeDistributed(Dense(activation='relu'))(x)\n",
    "# x += residual\n",
    "# x = LayerNormalization(epsilon=1e-6)(x)\n",
    "#\n",
    "# x = MultiHeadAttention(num_heads=2, key_dim=2)(x, x)\n",
    "# x += residual\n",
    "# x = residual = LayerNormalization(epsilon=1e-6)(x)\n",
    "# x = TimeDistributed(Dense(activation='relu'))(x)\n",
    "# x += residual\n",
    "# x = LayerNormalization(epsilon=1e-6)(x)\n",
    "#\n",
    "# outputs = Dense(activation='relu')(x)\n",
    "#\n",
    "# model = Model(inputs=inputs, outputs=outputs, name=\"Self-attention Stock Price Encoder\")\n",
    "\n",
    "autoencoder = AttentionEncoder(5 * 30 * 24 * 60, 12, 6, 2, 16, 2, 0.1)\n",
    "autoencoder.compile(optimizer='adam', loss='mae')"
   ],
   "metadata": {
    "collapsed": false
   }
  },
  {
   "cell_type": "code",
   "execution_count": 13,
   "outputs": [
    {
     "data": {
      "text/plain": "array([[[0, 0, 0, 0, 0, 0, 0, 0, 0, 0],\n        [1, 1, 1, 1, 1, 1, 1, 1, 1, 1],\n        [2, 2, 2, 2, 2, 2, 2, 2, 2, 2],\n        [3, 3, 3, 3, 3, 3, 3, 3, 3, 3]],\n\n       [[4, 4, 4, 4, 4, 4, 4, 4, 4, 4],\n        [5, 5, 5, 5, 5, 5, 5, 5, 5, 5],\n        [6, 6, 6, 6, 6, 6, 6, 6, 6, 6],\n        [7, 7, 7, 7, 7, 7, 7, 7, 7, 7]]])"
     },
     "execution_count": 13,
     "metadata": {},
     "output_type": "execute_result"
    }
   ],
   "source": [
    "def vectorized_stride(array, length, stride):\n",
    "    start = 0\n",
    "    max_time = len(array) - length - 1\n",
    "\n",
    "    sub_windows = (\n",
    "            start +\n",
    "            np.expand_dims(np.arange(length), 0) +\n",
    "            # Create a rightmost vector as [0, V, 2V, ...].\n",
    "            np.expand_dims(np.arange(max_time + 1, step=stride), 0).T\n",
    "    )\n",
    "\n",
    "    return array[sub_windows]\n",
    "\n",
    "\n",
    "# arr = np.array([[i] * 10 for i in range(10)])\n",
    "# vectorized_stride(arr, length=4, stride=4)\n",
    "\n",
    "\n",
    "def add_features(df):\n",
    "    quotes_list = [\n",
    "        Quote(d, o, h, l, c, v)\n",
    "        for d, o, h, l, c, v\n",
    "        in zip(df['Timestamp'], df['Open'], df['High'], df['Low'], df['Close'], df['Volume_(Currency)'])\n",
    "    ]\n",
    "    ...\n",
    "    return ...\n",
    "\n",
    "\n",
    "def make_standardised_segments(df, segment_len, segment_amp_range, stride):\n",
    "    segments = vectorized_stride(df.to_numpy(), length=segment_len, stride=stride)\n",
    "    scaler = MinMaxScaler(feature_range=segment_amp_range)\n",
    "    return [pd.DataFrame(scaler.fit_transform(segment), columns=df.columns) for segment in segments]\n",
    "\n",
    "\n",
    "# def tokenize(df, amplitude_range, resolution):\n",
    "#     # quantities = np.linspace(0, window_height, resolution)\n",
    "#     interval = amplitude_range / (resolution - 1)\n",
    "#\n",
    "#     df = interval * np.round(df / interval)  # nan ok?\n",
    "#     # df = df.fillna('<NULL>')\n",
    "#     # df[df.isna().any(axis=1)] = '<NULL>'\n",
    "#     df = df.astype(str)  # verify this works\n",
    "#\n",
    "#     return df\n",
    "\n",
    "def make_curriculum(df, window_length, window_range, stride):\n",
    "    return [make_standardised_segments(df[i:], segment_len=window_length, segment_amp_range=window_range, stride=stride)\n",
    "            for i in range(window_length)]\n",
    "\n",
    "\n",
    "def ts_train_test_split(df, test_size, gap_size):\n",
    "    gap_size = int(gap_size)\n",
    "    train_end = int((1 - test_size) * (len(df) - gap_size))\n",
    "    return df[:train_end], df[train_end + gap_size:]\n",
    "\n",
    "\n",
    "def resample(df, freq):\n",
    "    return df.resample(freq).agg({\n",
    "        'Open': 'first',\n",
    "        'High': 'max',\n",
    "        'Low': 'min',\n",
    "        'Close': 'last',\n",
    "        # 'Volume_(BTC)': 'sum',\n",
    "        'Volume_(Currency)': 'sum',\n",
    "        # 'Weighted_Price': 'mean',\n",
    "        # 'Missing': 'sum',\n",
    "    })\n"
   ],
   "metadata": {
    "collapsed": false
   }
  },
  {
   "cell_type": "code",
   "execution_count": 62,
   "outputs": [],
   "source": [
    "\n",
    "\n",
    "raw_data = pd.read_csv('bitstampUSD_1-min_data_2012-01-01_to_2021-03-31.csv', index_col='Timestamp')  # min by min\n",
    "raw_data.index = pd.to_datetime(raw_data.index, unit='s')\n",
    "\n",
    "# data['Missing'] = data.isna().any(axis=1).astype(int)\n",
    "data = raw_data.interpolate(method='index')\n",
    "# todo: show how much is interpolated\n",
    "data = data[['Open', 'High', 'Low', 'Close', 'Volume_(Currency)']]\n",
    "\n",
    "window_length = int(5 * 30 * 24 / 4)\n",
    "# stride = int(10 / 25 * window_length)\n",
    "stride = 16\n",
    "window_range = (-1, 1)\n",
    "\n",
    "train_data, val_data = ts_train_test_split(data, test_size=0.3, gap_size=window_length)\n",
    "val_data, test_data = ts_train_test_split(val_data, test_size=0.15 * 0.3, gap_size=stride)\n",
    "\n",
    "freq = '15min'\n",
    "train_data = resample(train_data, freq)\n",
    "val_data = resample(val_data, freq)\n",
    "test_data = resample(test_data, freq)\n",
    "# train_data = add_features(train_data)\n",
    "\n",
    "# curriculum = []\n",
    "# for i in range(window_size):\n",
    "#     curriculum.append(tokenize(quantise(normalise(segment(data, offset=i))), mask))\n",
    "train_data = make_standardised_segments(train_data, window_length, window_range, stride)\n",
    "val_data = make_standardised_segments(val_data, window_length, window_range, stride)\n",
    "test_data = make_standardised_segments(test_data, window_length, window_range, stride)"
   ],
   "metadata": {
    "collapsed": false
   }
  },
  {
   "cell_type": "code",
   "execution_count": null,
   "outputs": [],
   "source": [
    "\n",
    "autoencoder.fit(train_data, train_data)"
   ],
   "metadata": {
    "collapsed": false
   }
  },
  {
   "cell_type": "code",
   "execution_count": 6,
   "outputs": [
    {
     "name": "stdout",
     "output_type": "stream",
     "text": [
      "b\"\\xf9\\xbe\\xb4\\xd9\\x1d\\x01\\x00\\x00\\x01\\x00\\x00\\x00\\x00\\x00\\x00\\x00\\x00\\x00\\x00\\x00\\x00\\x00\\x00\\x00\\x00\\x00\\x00\\x00\\x00\\x00\\x00\\x00\\x00\\x00\\x00\\x00\\x00\\x00\\x00\\x00\\x00\\x00\\x00\\x00;\\xa3\\xed\\xfdz{\\x12\\xb2z\\xc7,>gv\\x8fa\\x7f\\xc8\\x1b\\xc3\\x88\\x8aQ2:\\x9f\\xb8\\xaaK\\x1e^J)\\xab_I\\xff\\xff\\x00\\x1d\\x1d\\xac+|\\x01\\x01\\x00\\x00\\x00\\x01\\x00\\x00\\x00\\x00\\x00\\x00\\x00\\x00\\x00\\x00\\x00\\x00\\x00\\x00\\x00\\x00\\x00\\x00\\x00\\x00\\x00\\x00\\x00\\x00\\x00\\x00\\x00\\x00\\x00\\x00\\x00\\x00\\xff\\xff\\xff\\xffM\\x04\\xff\\xff\\x00\\x1d\\x01\\x04EThe Times 03/Jan/2009 Chancellor on brink of second bailout for banks\\xff\\xff\\xff\\xff\\x01\\x00\\xf2\\x05*\\x01\\x00\\x00\\x00CA\\x04g\\x8a\\xfd\\xb0\\xfeUH'\\x19g\\xf1\\xa6q0\\xb7\\x10\\\\\\xd6\\xa8(\\xe09\\t\\xa6yb\\xe0\\xea\\x1fa\\xde\\xb6I\\xf6\\xbc?L\\xef8\\xc4\\xf3U\\x04\\xe5\\x1e\\xc1\\x12\\xde\\\\8M\\xf7\\xba\\x0b\\x8dW\\x8aLp+k\\xf1\\x1d_\\xac\\x00\\x00\\x00\\x00\\xf9\\xbe\\xb4\\xd9\\xd7\\x00\\x00\\x00\\x01\\x00\\x00\\x00o\\xe2\\x8c\\n\"\n",
      "b'f9beb4d91d0100000100000000000000000000000000000000000000000000000000000000000000000000003ba3edfd7a7b12b27ac72c3e67768f617fc81bc3888a51323a9fb8aa4b1e5e4a29ab5f49ffff001d1dac2b7c0101000000010000000000000000000000000000000000000000000000000000000000000000ffffffff4d04ffff001d0104455468652054696d65732030332f4a616e2f32303039204368616e63656c6c6f72206f6e206272696e6b206f66207365636f6e64206261696c6f757420666f722062616e6b73ffffffff0100f2052a01000000434104678afdb0fe5548271967f1a67130b7105cd6a828e03909a67962e0ea1f61deb649f6bc3f4cef38c4f35504e51ec112de5c384df7ba0b8d578a4c702b6bf11d5fac00000000f9beb4d9d7000000010000006fe28c0a'\n"
     ]
    }
   ],
   "source": [
    "import binascii\n",
    "\n",
    "with open(r\"D:\\Bitcoin\\blocks\\blk00000.dat\", 'rb') as f:\n",
    "    data = f.readline()\n",
    "    print(data)\n",
    "    data = binascii.hexlify(data)\n",
    "    print(data)"
   ],
   "metadata": {
    "collapsed": false
   }
  },
  {
   "cell_type": "code",
   "execution_count": null,
   "outputs": [],
   "source": [
    "data"
   ],
   "metadata": {
    "collapsed": false
   }
  }
 ],
 "metadata": {
  "kernelspec": {
   "display_name": "Python 3",
   "language": "python",
   "name": "python3"
  },
  "language_info": {
   "codemirror_mode": {
    "name": "ipython",
    "version": 2
   },
   "file_extension": ".py",
   "mimetype": "text/x-python",
   "name": "python",
   "nbconvert_exporter": "python",
   "pygments_lexer": "ipython2",
   "version": "2.7.6"
  }
 },
 "nbformat": 4,
 "nbformat_minor": 0
}
