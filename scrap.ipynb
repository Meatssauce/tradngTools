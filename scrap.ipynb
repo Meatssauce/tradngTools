{
 "cells": [
  {
   "cell_type": "code",
   "execution_count": 2,
   "metadata": {
    "collapsed": true
   },
   "outputs": [],
   "source": [
    "import os\n",
    "\n",
    "import numpy as np\n",
    "import pandas as pd\n",
    "import tensorflow as tf\n",
    "# from tensorflow import keras\n",
    "# from keras.layers import Layer\n",
    "# from keras.models import Model, Sequential\n",
    "# from transformers import GPT2Tokenizer\n",
    "# from Transformer import TSTransformerAutoEncoder\n",
    "\n",
    "from sklearn.preprocessing import MinMaxScaler\n",
    "\n",
    "from stock_indicators import indicators\n",
    "from stock_indicators.indicators.common.quote import Quote"
   ]
  },
  {
   "cell_type": "code",
   "execution_count": 3,
   "outputs": [],
   "source": [
    "def vectorized_stride(array, length, stride):\n",
    "    start = 0\n",
    "    max_time = len(array) - length - 1\n",
    "\n",
    "    sub_windows = (\n",
    "            start +\n",
    "            np.expand_dims(np.arange(length), 0) +\n",
    "            # Create a rightmost vector as [0, V, 2V, ...].\n",
    "            np.expand_dims(np.arange(max_time + 1, step=stride), 0).T\n",
    "    )\n",
    "\n",
    "    return array[sub_windows]\n",
    "\n",
    "\n",
    "# arr = np.array([[i] * 10 for i in range(10)])\n",
    "# vectorized_stride(arr, length=4, stride=4)\n",
    "\n",
    "\n",
    "def add_features(df):\n",
    "    quotes_list = [\n",
    "        Quote(d, o, h, l, c, v)\n",
    "        for d, o, h, l, c, v\n",
    "        in zip(df['Timestamp'], df['Open'], df['High'], df['Low'], df['Close'], df['Volume_(Currency)'])\n",
    "    ]\n",
    "    ...\n",
    "    return ...\n",
    "\n",
    "\n",
    "def make_standardised_segments(df, segment_len, segment_amp_range, stride):\n",
    "    segments = vectorized_stride(df.to_numpy(), length=segment_len, stride=stride)\n",
    "    scaler = MinMaxScaler(feature_range=segment_amp_range)\n",
    "    return [pd.DataFrame(scaler.fit_transform(segment), columns=df.columns) for segment in segments]\n",
    "\n",
    "\n",
    "# def tokenize(df, amplitude_range, resolution):\n",
    "#     # quantities = np.linspace(0, window_height, resolution)\n",
    "#     interval = amplitude_range / (resolution - 1)\n",
    "#\n",
    "#     df = interval * np.round(df / interval)  # nan ok?\n",
    "#     # df = df.fillna('<NULL>')\n",
    "#     # df[df.isna().any(axis=1)] = '<NULL>'\n",
    "#     df = df.astype(str)  # verify this works\n",
    "#\n",
    "#     return df\n",
    "\n",
    "def make_curriculum(df, window_length, window_range, stride):\n",
    "    return [make_standardised_segments(df[i:], segment_len=window_length, segment_amp_range=window_range, stride=stride)\n",
    "            for i in range(window_length)]\n",
    "\n",
    "\n",
    "def ts_train_test_split(df, test_size, gap_size):\n",
    "    gap_size = int(gap_size)\n",
    "    train_end = int((1 - test_size) * (len(df) - gap_size))\n",
    "    return df[:train_end], df[train_end + gap_size:]\n",
    "\n",
    "\n",
    "def resample(df, freq):\n",
    "    return df.resample(freq).agg({\n",
    "        'Open': 'first',\n",
    "        'High': 'max',\n",
    "        'Low': 'min',\n",
    "        'Close': 'last',\n",
    "        # 'Volume_(BTC)': 'sum',\n",
    "        'Volume_(Currency)': 'sum',\n",
    "        # 'Weighted_Price': 'mean',\n",
    "        # 'Missing': 'sum',\n",
    "    })"
   ],
   "metadata": {
    "collapsed": false
   }
  },
  {
   "cell_type": "code",
   "execution_count": 4,
   "outputs": [],
   "source": [
    "raw_data = pd.read_csv('bitstampUSD_1-min_data_2012-01-01_to_2021-03-31.csv', index_col='Timestamp')  # min by min\n",
    "raw_data.index = pd.to_datetime(raw_data.index, unit='s')"
   ],
   "metadata": {
    "collapsed": false
   }
  },
  {
   "cell_type": "code",
   "execution_count": 5,
   "outputs": [
    {
     "data": {
      "text/plain": "(14161, 512, 5)"
     },
     "execution_count": 5,
     "metadata": {},
     "output_type": "execute_result"
    }
   ],
   "source": [
    "\n",
    "# data['Missing'] = data.isna().any(axis=1).astype(int)\n",
    "data = raw_data.interpolate(method='index')\n",
    "# todo: show how much is interpolated\n",
    "data = data[['Open', 'High', 'Low', 'Close', 'Volume_(Currency)']]\n",
    "\n",
    "# window_length = int(5 * 30 * 24 / 4)\n",
    "window_length = 512\n",
    "stride = 16\n",
    "window_range = (-1, 1)\n",
    "\n",
    "train_data, val_data = ts_train_test_split(data, test_size=0.3, gap_size=window_length)\n",
    "val_data, test_data = ts_train_test_split(val_data, test_size=0.15 * 0.3, gap_size=stride)\n",
    "\n",
    "freq = '15min'\n",
    "train_data = resample(train_data, freq)\n",
    "val_data = resample(val_data, freq)\n",
    "test_data = resample(test_data, freq)\n",
    "# train_data = add_features(train_data)\n",
    "\n",
    "# curriculum = []\n",
    "# for i in range(window_size):\n",
    "#     curriculum.append(tokenize(quantise(normalise(segment(data, offset=i))), mask))\n",
    "train_data = np.stack(make_standardised_segments(train_data, window_length, window_range, stride))\n",
    "val_data = np.stack(make_standardised_segments(val_data, window_length, window_range, stride))\n",
    "test_data = np.stack(make_standardised_segments(test_data, window_length, window_range, stride))\n",
    "\n",
    "train_data.shape"
   ],
   "metadata": {
    "collapsed": false
   }
  },
  {
   "cell_type": "code",
   "execution_count": 6,
   "outputs": [],
   "source": [
    "# tf.keras.layers.TimeDistributed(tf.keras.layers.Dense(3))(train_data)"
   ],
   "metadata": {
    "collapsed": false
   }
  },
  {
   "cell_type": "code",
   "execution_count": 7,
   "outputs": [],
   "source": [
    "# tf.keras.layers.Conv1D(filters=1, kernel_size=5, padding='valid', activation='relu', input_shape=train_data.shape[1:])(train_data)"
   ],
   "metadata": {
    "collapsed": false
   }
  },
  {
   "cell_type": "code",
   "execution_count": 8,
   "outputs": [
    {
     "name": "stdout",
     "output_type": "stream",
     "text": [
      "Model: \"sequential\"\n",
      "_________________________________________________________________\n",
      " Layer (type)                Output Shape              Param #   \n",
      "=================================================================\n",
      " conv1d (Conv1D)             (None, 256, 32)           1152      \n",
      "                                                                 \n",
      " dropout (Dropout)           (None, 256, 32)           0         \n",
      "                                                                 \n",
      " conv1d_1 (Conv1D)           (None, 128, 16)           3600      \n",
      "                                                                 \n",
      " conv1d_transpose (Conv1DTra  (None, 256, 16)          1808      \n",
      " nspose)                                                         \n",
      "                                                                 \n",
      " dropout_1 (Dropout)         (None, 256, 16)           0         \n",
      "                                                                 \n",
      " conv1d_transpose_1 (Conv1DT  (None, 512, 32)          3616      \n",
      " ranspose)                                                       \n",
      "                                                                 \n",
      " conv1d_transpose_2 (Conv1DT  (None, 512, 5)           1125      \n",
      " ranspose)                                                       \n",
      "                                                                 \n",
      "=================================================================\n",
      "Total params: 11,301\n",
      "Trainable params: 11,301\n",
      "Non-trainable params: 0\n",
      "_________________________________________________________________\n"
     ]
    }
   ],
   "source": [
    "model = tf.keras.Sequential(\n",
    "    [\n",
    "        tf.keras.layers.Input(shape=(512, 5)),\n",
    "        tf.keras.layers.Conv1D(\n",
    "            filters=32, kernel_size=7, padding=\"same\", strides=2, activation=\"relu\"\n",
    "        ),\n",
    "        tf.keras.layers.Dropout(rate=0.2),\n",
    "        tf.keras.layers.Conv1D(\n",
    "            filters=16, kernel_size=7, padding=\"same\", strides=2, activation=\"relu\"\n",
    "        ),\n",
    "        tf.keras.layers.Conv1DTranspose(\n",
    "            filters=16, kernel_size=7, padding=\"same\", strides=2, activation=\"relu\"\n",
    "        ),\n",
    "        tf.keras.layers.Dropout(rate=0.2),\n",
    "        tf.keras.layers.Conv1DTranspose(\n",
    "            filters=32, kernel_size=7, padding=\"same\", strides=2, activation=\"relu\"\n",
    "        ),\n",
    "        tf.keras.layers.Conv1DTranspose(filters=5, kernel_size=7, padding=\"same\"),\n",
    "    ]\n",
    ")\n",
    "model.compile(optimizer=tf.keras.optimizers.Adam(learning_rate=0.001), loss=\"mse\")\n",
    "model.summary()"
   ],
   "metadata": {
    "collapsed": false
   }
  },
  {
   "cell_type": "code",
   "execution_count": 9,
   "outputs": [],
   "source": [
    "# model = tf.keras.Sequential([\n",
    "#     tf.keras.layers.Conv1D(filters=1, kernel_size=3, padding='valid', activation='gelu', input_shape=(512, 5)),\n",
    "#     tf.keras.layers.Conv1D(filters=1, kernel_size=3, padding='valid', strides=3, activation='gelu'),\n",
    "# ])\n",
    "# model.compile(optimizer='adam', loss='mse')\n",
    "# model.summary()"
   ],
   "metadata": {
    "collapsed": false
   }
  },
  {
   "cell_type": "code",
   "execution_count": null,
   "outputs": [
    {
     "name": "stdout",
     "output_type": "stream",
     "text": [
      "Epoch 1/50\n"
     ]
    }
   ],
   "source": [
    "history = model.fit(\n",
    "    train_data,\n",
    "    train_data,\n",
    "    epochs=50,\n",
    "    batch_size=128,\n",
    "    validation_split=0.1,\n",
    "    callbacks=[\n",
    "        tf.keras.callbacks.EarlyStopping(monitor=\"val_loss\", patience=5, mode=\"min\")\n",
    "    ],\n",
    "    verbose=1\n",
    ")"
   ],
   "metadata": {
    "collapsed": false
   }
  },
  {
   "cell_type": "code",
   "execution_count": null,
   "outputs": [],
   "source": [
    "model.predict(train_data[1:])"
   ],
   "metadata": {
    "collapsed": false
   }
  },
  {
   "cell_type": "code",
   "execution_count": null,
   "outputs": [],
   "source": [
    "# from components.transformer import TSTransformerAutoEncoder\n",
    "#\n",
    "# autoencoder = TSTransformerAutoEncoder(vocab_size=1000,\n",
    "#                                        input_shape=(512, 5),\n",
    "#                                        d_embedding=64,\n",
    "#                                        d_compressed=51,\n",
    "#                                        n_layers=4,\n",
    "#                                        FFN_units=2048,\n",
    "#                                        n_heads=8,\n",
    "#                                        dropout_rate=0.1)\n",
    "\n",
    "\n",
    "\n",
    "\n",
    "\n",
    "\n",
    "\n",
    "\n",
    "\n",
    "\n",
    "\n",
    "autoencoder.compile(optimizer='adam', loss='mae')\n"
   ],
   "metadata": {
    "collapsed": false
   }
  },
  {
   "cell_type": "code",
   "execution_count": null,
   "outputs": [],
   "source": [
    "autoencoder.fit(train_data, train_data)"
   ],
   "metadata": {
    "collapsed": false
   }
  }
 ],
 "metadata": {
  "kernelspec": {
   "display_name": "Python 3",
   "language": "python",
   "name": "python3"
  },
  "language_info": {
   "codemirror_mode": {
    "name": "ipython",
    "version": 2
   },
   "file_extension": ".py",
   "mimetype": "text/x-python",
   "name": "python",
   "nbconvert_exporter": "python",
   "pygments_lexer": "ipython2",
   "version": "2.7.6"
  }
 },
 "nbformat": 4,
 "nbformat_minor": 0
}
