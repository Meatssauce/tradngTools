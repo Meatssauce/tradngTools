{
 "cells": [
  {
   "cell_type": "code",
   "execution_count": 10,
   "metadata": {
    "collapsed": true
   },
   "outputs": [
    {
     "name": "stderr",
     "output_type": "stream",
     "text": [
      "[09:28:39] INFO - Start loading block_index\n",
      "[09:28:40] WARNING - Failed to open tx_index DB: tx_index not built\n"
     ]
    }
   ],
   "source": [
    "import bitcoin_explorer as bex\n",
    "\n",
    "# parse the same path as `--datadir` argument for `bitcoind`.\n",
    "db = bex.BitcoinDB(\"D:/Bitcoin\")\n",
    "\n",
    "# use iterator\n",
    "for block in db.get_block_iter_range(stop=20000):\n",
    "    pass"
   ]
  },
  {
   "cell_type": "code",
   "execution_count": null,
   "outputs": [],
   "source": [],
   "metadata": {
    "collapsed": false
   }
  }
 ],
 "metadata": {
  "kernelspec": {
   "display_name": "Python 3",
   "language": "python",
   "name": "python3"
  },
  "language_info": {
   "codemirror_mode": {
    "name": "ipython",
    "version": 2
   },
   "file_extension": ".py",
   "mimetype": "text/x-python",
   "name": "python",
   "nbconvert_exporter": "python",
   "pygments_lexer": "ipython2",
   "version": "2.7.6"
  }
 },
 "nbformat": 4,
 "nbformat_minor": 0
}
