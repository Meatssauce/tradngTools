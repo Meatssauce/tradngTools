{
 "cells": [
  {
   "cell_type": "code",
   "execution_count": 10,
   "metadata": {
    "collapsed": true
   },
   "outputs": [
    {
     "name": "stderr",
     "output_type": "stream",
     "text": [
      "[09:28:39] INFO - Start loading block_index\n",
      "[09:28:40] WARNING - Failed to open tx_index DB: tx_index not built\n"
     ]
    }
   ],
   "source": [
    "import bitcoin_explorer as bex\n",
    "\n",
    "# parse the same path as `--datadir` argument for `bitcoind`.\n",
    "db = bex.BitcoinDB(\"D:/Bitcoin\")\n",
    "\n",
    "# use iterator\n",
    "for block in db.get_block_iter_range(stop=20000):\n",
    "    pass"
   ]
  },
  {
   "cell_type": "code",
   "execution_count": 2,
   "outputs": [
    {
     "ename": "ValueError",
     "evalue": "invalid literal for int() with base 16: ''",
     "output_type": "error",
     "traceback": [
      "\u001B[1;31m---------------------------------------------------------------------------\u001B[0m",
      "\u001B[1;31mValueError\u001B[0m                                Traceback (most recent call last)",
      "Cell \u001B[1;32mIn [2], line 4\u001B[0m\n\u001B[0;32m      1\u001B[0m \u001B[38;5;28;01mfrom\u001B[39;00m \u001B[38;5;21;01mblock_parser\u001B[39;00m \u001B[38;5;28;01mimport\u001B[39;00m read_block, read_dat\n\u001B[1;32m----> 4\u001B[0m block_data \u001B[38;5;241m=\u001B[39m \u001B[43mread_dat\u001B[49m\u001B[43m(\u001B[49m\u001B[38;5;124;43m'\u001B[39;49m\u001B[38;5;124;43mD:/Bitcoin/blocks/blk00955.dat\u001B[39;49m\u001B[38;5;124;43m'\u001B[39;49m\u001B[43m)\u001B[49m\n",
      "File \u001B[1;32m~\\PycharmProjects\\tradngTools\\block_parser.py:106\u001B[0m, in \u001B[0;36mread_dat\u001B[1;34m(filepath)\u001B[0m\n\u001B[0;32m    104\u001B[0m \u001B[38;5;28;01mwhile\u001B[39;00m \u001B[38;5;28;01mTrue\u001B[39;00m:\n\u001B[0;32m    105\u001B[0m     \u001B[38;5;28;01mtry\u001B[39;00m:\n\u001B[1;32m--> 106\u001B[0m         blocks\u001B[38;5;241m.\u001B[39mappend(\u001B[43mread_block\u001B[49m\u001B[43m(\u001B[49m\u001B[43mf\u001B[49m\u001B[43m)\u001B[49m)\n\u001B[0;32m    107\u001B[0m     \u001B[38;5;28;01mexcept\u001B[39;00m \u001B[38;5;167;01mEOFError\u001B[39;00m:\n\u001B[0;32m    108\u001B[0m         \u001B[38;5;28;01mbreak\u001B[39;00m\n",
      "File \u001B[1;32m~\\PycharmProjects\\tradngTools\\block_parser.py:89\u001B[0m, in \u001B[0;36mread_block\u001B[1;34m(file)\u001B[0m\n\u001B[0;32m     86\u001B[0m bits \u001B[38;5;241m=\u001B[39m file\u001B[38;5;241m.\u001B[39mread(\u001B[38;5;241m4\u001B[39m)[::\u001B[38;5;241m-\u001B[39m\u001B[38;5;241m1\u001B[39m]\u001B[38;5;241m.\u001B[39mhex()\n\u001B[0;32m     87\u001B[0m nonce \u001B[38;5;241m=\u001B[39m file\u001B[38;5;241m.\u001B[39mread(\u001B[38;5;241m4\u001B[39m)[::\u001B[38;5;241m-\u001B[39m\u001B[38;5;241m1\u001B[39m]\u001B[38;5;241m.\u001B[39mhex()\n\u001B[1;32m---> 89\u001B[0m tx_count \u001B[38;5;241m=\u001B[39m \u001B[43mread_varint\u001B[49m\u001B[43m(\u001B[49m\u001B[43mfile\u001B[49m\u001B[43m)\u001B[49m\n\u001B[0;32m     90\u001B[0m transactions \u001B[38;5;241m=\u001B[39m [read_transaction(file) \u001B[38;5;28;01mfor\u001B[39;00m _ \u001B[38;5;129;01min\u001B[39;00m \u001B[38;5;28mrange\u001B[39m(tx_count)]\n\u001B[0;32m     92\u001B[0m \u001B[38;5;66;03m# if make_merkle_root(...) != merkle_root:\u001B[39;00m\n\u001B[0;32m     93\u001B[0m \u001B[38;5;66;03m#     warnings.warn('Merkle root does not match transactions. '\u001B[39;00m\n\u001B[0;32m     94\u001B[0m \u001B[38;5;66;03m#                   'Something is wrong if this is an official block.')\u001B[39;00m\n",
      "File \u001B[1;32m~\\PycharmProjects\\tradngTools\\block_parser.py:30\u001B[0m, in \u001B[0;36mread_varint\u001B[1;34m(file)\u001B[0m\n\u001B[0;32m     27\u001B[0m \u001B[38;5;28;01melif\u001B[39;00m tx_count\u001B[38;5;241m.\u001B[39mstartswith(\u001B[38;5;124m'\u001B[39m\u001B[38;5;124mff\u001B[39m\u001B[38;5;124m'\u001B[39m):\n\u001B[0;32m     28\u001B[0m     tx_count \u001B[38;5;241m=\u001B[39m file\u001B[38;5;241m.\u001B[39mread(\u001B[38;5;241m8\u001B[39m)[::\u001B[38;5;241m-\u001B[39m\u001B[38;5;241m1\u001B[39m]\u001B[38;5;241m.\u001B[39mhex()\n\u001B[1;32m---> 30\u001B[0m \u001B[38;5;28;01mreturn\u001B[39;00m \u001B[38;5;28;43mint\u001B[39;49m\u001B[43m(\u001B[49m\u001B[43mtx_count\u001B[49m\u001B[43m,\u001B[49m\u001B[43m \u001B[49m\u001B[43mbase\u001B[49m\u001B[38;5;241;43m=\u001B[39;49m\u001B[38;5;241;43m16\u001B[39;49m\u001B[43m)\u001B[49m\n",
      "\u001B[1;31mValueError\u001B[0m: invalid literal for int() with base 16: ''"
     ]
    }
   ],
   "source": [
    "from block_parser import read_block, read_dat\n",
    "\n",
    "\n",
    "block_data = read_dat('D:/Bitcoin/blocks/blk00955.dat')"
   ],
   "metadata": {
    "collapsed": false
   }
  },
  {
   "cell_type": "code",
   "execution_count": 34,
   "outputs": [
    {
     "data": {
      "text/plain": "'00000000000000000118ee7de117b2e4cda74abfb92fb5b8c6e6469260144a90'"
     },
     "execution_count": 34,
     "metadata": {},
     "output_type": "execute_result"
    }
   ],
   "source": [
    "block_data['prev_block_hash']"
   ],
   "metadata": {
    "collapsed": false
   }
  },
  {
   "cell_type": "code",
   "execution_count": 8,
   "outputs": [
    {
     "data": {
      "text/plain": "b'\\x04\\xff\\xff\\x00\\x1d\\x01\\x04EThe Times 03/Jan/2009 Chancellor on brink of second bailout for banks'"
     },
     "execution_count": 8,
     "metadata": {},
     "output_type": "execute_result"
    }
   ],
   "source": [
    "bytes.fromhex(block_data['transactions'][0]['inputs'][0]['scriptSig'])"
   ],
   "metadata": {
    "collapsed": false
   }
  },
  {
   "cell_type": "code",
   "execution_count": null,
   "outputs": [],
   "source": [],
   "metadata": {
    "collapsed": false
   }
  }
 ],
 "metadata": {
  "kernelspec": {
   "display_name": "Python 3",
   "language": "python",
   "name": "python3"
  },
  "language_info": {
   "codemirror_mode": {
    "name": "ipython",
    "version": 2
   },
   "file_extension": ".py",
   "mimetype": "text/x-python",
   "name": "python",
   "nbconvert_exporter": "python",
   "pygments_lexer": "ipython2",
   "version": "2.7.6"
  }
 },
 "nbformat": 4,
 "nbformat_minor": 0
}
