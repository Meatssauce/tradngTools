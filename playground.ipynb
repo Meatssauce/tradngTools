{
 "cells": [
  {
   "cell_type": "code",
   "execution_count": 1,
   "metadata": {
    "collapsed": true
   },
   "outputs": [
    {
     "name": "stdout",
     "output_type": "stream",
     "text": [
      "height=0: len(block.transactions)=1 block.transactions[0].id='3ba3edfd7a7b12b27ac72c3e67768f617fc81bc3888a51323a9fb8aa4b1e5e4a'\n",
      "height=1: len(block.transactions)=1 block.transactions[0].id='982051fd1e4ba744bbbe680e1fee14677ba1a3c3540bf7b1cdb606e857233e0e'\n",
      "height=2: len(block.transactions)=1 block.transactions[0].id='d5fdcc541e25de1c7a5addedf24858b8bb665c9f36ef744ee42c316022c90f9b'\n",
      "height=3: len(block.transactions)=1 block.transactions[0].id='44f672226090d85db9a9f2fbfe5f0f9609b387af7be5b7fbb7a1767c831c9e99'\n",
      "height=4: len(block.transactions)=1 block.transactions[0].id='7a06ea98cd40ba2e3288262b28638cec5337c1456aaf5eedc8e9e5a20f062bdf'\n",
      "height=5: len(block.transactions)=1 block.transactions[0].id='e11c48fecdd9e72510ca84f023370c9a38bf91ac5cae88019bee94d245285263'\n",
      "height=6: len(block.transactions)=1 block.transactions[0].id='379dfb96a5ea8c81700ea4ac6b97ae9a9312b2d4301a29580e924ee6761a2520'\n",
      "height=7: len(block.transactions)=1 block.transactions[0].id='3f674005103b42f984169c7d008370967e91920a6a5d64fd51282f75bc73a68a'\n",
      "height=8: len(block.transactions)=1 block.transactions[0].id='e3855ed886605b6d4a99d5fa2ef2e9b0b164e63df3c4136bebf2d0dac0f1f7a6'\n",
      "height=9: len(block.transactions)=1 block.transactions[0].id='c997a5e56e104102fa209c6a852dd90660a20b2d9c352423edce25857fcd3704'\n"
     ]
    }
   ],
   "source": [
    "from block_parser import read_dat_from_index\n",
    "\n",
    "for height, block in enumerate(read_dat_from_index('datasets/blocks/index.csv')):\n",
    "    print(f'{height=}: {len(block.transactions)=} {block.transactions[0].id=}')\n",
    "    if height >= 9:\n",
    "        break"
   ]
  },
  {
   "cell_type": "code",
   "execution_count": null,
   "outputs": [],
   "source": [],
   "metadata": {
    "collapsed": false
   }
  },
  {
   "cell_type": "code",
   "execution_count": null,
   "outputs": [],
   "source": [],
   "metadata": {
    "collapsed": false
   }
  }
 ],
 "metadata": {
  "kernelspec": {
   "display_name": "Python 3",
   "language": "python",
   "name": "python3"
  },
  "language_info": {
   "codemirror_mode": {
    "name": "ipython",
    "version": 2
   },
   "file_extension": ".py",
   "mimetype": "text/x-python",
   "name": "python",
   "nbconvert_exporter": "python",
   "pygments_lexer": "ipython2",
   "version": "2.7.6"
  }
 },
 "nbformat": 4,
 "nbformat_minor": 0
}
