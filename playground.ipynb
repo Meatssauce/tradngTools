{
 "cells": [
  {
   "cell_type": "code",
   "execution_count": 3,
   "metadata": {
    "collapsed": true
   },
   "outputs": [
    {
     "name": "stdout",
     "output_type": "stream",
     "text": [
      "height=0: len(block.transactions)=1 block.transactions[0].id='4a5e1e4baab89f3a32518a88c31bc87f618f76673e2cc77ab2127b7afdeda33b'\n",
      "height=1: len(block.transactions)=1 block.transactions[0].id='0e3e2357e806b6cdb1f70b54c3a3a17b6714ee1f0e68bebb44a74b1efd512098'\n",
      "height=2: len(block.transactions)=1 block.transactions[0].id='9b0fc92260312ce44e74ef369f5c66bbb85848f2eddd5a7a1cde251e54ccfdd5'\n",
      "height=3: len(block.transactions)=1 block.transactions[0].id='999e1c837c76a1b7fbb7e57baf87b309960f5ffefbf2a9b95dd890602272f644'\n",
      "height=4: len(block.transactions)=1 block.transactions[0].id='df2b060fa2e5e9c8ed5eaf6a45c13753ec8c63282b2688322eba40cd98ea067a'\n",
      "height=5: len(block.transactions)=1 block.transactions[0].id='63522845d294ee9b0188ae5cac91bf389a0c3723f084ca1025e7d9cdfe481ce1'\n",
      "height=6: len(block.transactions)=1 block.transactions[0].id='20251a76e64e920e58291a30d4b212939aae976baca40e70818ceaa596fb9d37'\n",
      "height=7: len(block.transactions)=1 block.transactions[0].id='8aa673bc752f2851fd645d6a0a92917e967083007d9c1684f9423b100540673f'\n",
      "height=8: len(block.transactions)=1 block.transactions[0].id='a6f7f1c0dad0f2eb6b13c4f33de664b1b0e9f22efad5994a6d5b6086d85e85e3'\n",
      "height=9: len(block.transactions)=1 block.transactions[0].id='0437cd7f8525ceed2324359c2d0ba26006d92d856a9c20fa0241106ee5a597c9'\n"
     ]
    }
   ],
   "source": [
    "from blockchain_datamining.block_parser import read_dat_from_index\n",
    "\n",
    "for height, block in enumerate(read_dat_from_index('datasets/blocks/index.csv')):\n",
    "    print(f'{height=}: {len(block.transactions)=} {block.transactions[0].id=}')\n",
    "    if height >= 9:\n",
    "        break"
   ]
  },
  {
   "cell_type": "code",
   "execution_count": null,
   "outputs": [],
   "source": [],
   "metadata": {
    "collapsed": false
   }
  },
  {
   "cell_type": "code",
   "execution_count": null,
   "outputs": [],
   "source": [],
   "metadata": {
    "collapsed": false
   }
  }
 ],
 "metadata": {
  "kernelspec": {
   "display_name": "Python 3",
   "language": "python",
   "name": "python3"
  },
  "language_info": {
   "codemirror_mode": {
    "name": "ipython",
    "version": 2
   },
   "file_extension": ".py",
   "mimetype": "text/x-python",
   "name": "python",
   "nbconvert_exporter": "python",
   "pygments_lexer": "ipython2",
   "version": "2.7.6"
  }
 },
 "nbformat": 4,
 "nbformat_minor": 0
}
