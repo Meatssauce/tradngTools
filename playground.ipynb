{
 "cells": [
  {
   "cell_type": "code",
   "execution_count": 2,
   "metadata": {
    "collapsed": true
   },
   "outputs": [
    {
     "name": "stdout",
     "output_type": "stream",
     "text": [
      "height=0: len(block.transactions)=1 block.transactions[0].id_='0daa964faabc654449425f37443d378a47e32a2eadfbd85a95a23a880cf86364'\n",
      "height=1: len(block.transactions)=1 block.transactions[0].id_='cb3f55ae55b145aaa553acc76a4944657d81a4022f16c3229e168d51307ee8c0'\n",
      "height=2: len(block.transactions)=1 block.transactions[0].id_='9270eab302cff5b25d9c26c03ea94c10ea84ab2aeb2f5c41ec48b4252e5833fe'\n",
      "height=3: len(block.transactions)=1 block.transactions[0].id_='d067710b0c8e644922049f75225e1a3ea82b2f97c2fb83871aea437ae2cd5cd8'\n",
      "height=4: len(block.transactions)=1 block.transactions[0].id_='da6fda90cf97ec2930753dd49509c87b7a58a7d295fe8e6a75fe58491b574cff'\n",
      "height=5: len(block.transactions)=1 block.transactions[0].id_='1cbdda6f65268bbfa6d4c489d4682b36811ca17b6b8913d0773af5c7def34d85'\n",
      "height=6: len(block.transactions)=1 block.transactions[0].id_='c19c6df823224e2da96c855d37eeb9b697f2314dffed83432b1a16d1192339c0'\n",
      "height=7: len(block.transactions)=1 block.transactions[0].id_='de70fd32e35e7996717242512378677627a6e3738aa7c4cf2854abb98bd5816f'\n",
      "height=8: len(block.transactions)=1 block.transactions[0].id_='23c8cc4a71a23e0a83ce6141a1a0656b9695f07bf4cd97cd283eb39b59d24e88'\n",
      "height=9: len(block.transactions)=1 block.transactions[0].id_='7cd850c46a26a93a1138b9c55e0158970746bc6fe70ea4f3728f2bafcd98f4f3'\n"
     ]
    }
   ],
   "source": [
    "from block_parser import read_dat_from_index\n",
    "\n",
    "for height, block in enumerate(read_dat_from_index('datasets/blocks/index.csv')):\n",
    "    print(f'{height=}: {len(block.transactions)=} {block.transactions[0].id=}')\n",
    "    if height >= 9:\n",
    "        break"
   ]
  },
  {
   "cell_type": "code",
   "execution_count": null,
   "outputs": [],
   "source": [],
   "metadata": {
    "collapsed": false
   }
  },
  {
   "cell_type": "code",
   "execution_count": null,
   "outputs": [],
   "source": [],
   "metadata": {
    "collapsed": false
   }
  }
 ],
 "metadata": {
  "kernelspec": {
   "display_name": "Python 3",
   "language": "python",
   "name": "python3"
  },
  "language_info": {
   "codemirror_mode": {
    "name": "ipython",
    "version": 2
   },
   "file_extension": ".py",
   "mimetype": "text/x-python",
   "name": "python",
   "nbconvert_exporter": "python",
   "pygments_lexer": "ipython2",
   "version": "2.7.6"
  }
 },
 "nbformat": 4,
 "nbformat_minor": 0
}
